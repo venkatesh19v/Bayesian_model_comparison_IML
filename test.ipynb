{
 "cells": [
  {
   "cell_type": "code",
   "execution_count": 1,
   "metadata": {},
   "outputs": [],
   "source": [
    "import seaborn as sns\n",
    "\n",
    "\n",
    "def get_color(lst):\n",
    "    return list(map(lambda x: x / 255., lst))\n",
    "\n",
    "color1 = get_color([128, 179, 255])\n",
    "color2 = get_color([26, 26, 26])#\"k\"\n",
    "color3 = get_color([147, 157, 172])\n",
    "\n",
    "color4 = get_color([255, 204, 249])\n",
    "# temp_color = get_color([255, 238, 170])\n",
    "color5 = get_color([222, 135, 135])\n",
    "# pca_color = get_color([255, 238, 170])\n",
    "# pca_color = get_color([175, 233, 198])\n",
    "color6 = get_color([135, 222, 170])\n",
    "color7 = get_color([221, 233, 175])\n",
    "color8 = get_color([238, 170, 255])\n",
    "color9 = get_color([233, 221, 175])\n",
    "\n",
    "color10 = get_color([255, 42, 42])\n",
    "color11 = get_color([55, 200, 113])\n",
    "color12 = get_color([55, 113, 200])\n",
    "\n",
    "sanae_colors = [sns.cubehelix_palette(as_cmap=False)[i] for i in range(6)]\n"
   ]
  },
  {
   "cell_type": "code",
   "execution_count": null,
   "metadata": {},
   "outputs": [],
   "source": []
  }
 ],
 "metadata": {
  "kernelspec": {
   "display_name": "test_bayesian",
   "language": "python",
   "name": "python3"
  },
  "language_info": {
   "codemirror_mode": {
    "name": "ipython",
    "version": 3
   },
   "file_extension": ".py",
   "mimetype": "text/x-python",
   "name": "python",
   "nbconvert_exporter": "python",
   "pygments_lexer": "ipython3",
   "version": "3.8.19"
  }
 },
 "nbformat": 4,
 "nbformat_minor": 2
}
